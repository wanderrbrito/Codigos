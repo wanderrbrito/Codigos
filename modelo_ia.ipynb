{
  "cells": [
    {
      "cell_type": "markdown",
      "metadata": {
        "id": "view-in-github",
        "colab_type": "text"
      },
      "source": [
        "<a href=\"https://colab.research.google.com/github/wanderrbrito/Codigos/blob/main/modelo_ia.ipynb\" target=\"_parent\"><img src=\"https://colab.research.google.com/assets/colab-badge.svg\" alt=\"Open In Colab\"/></a>"
      ]
    },
    {
      "cell_type": "code",
      "execution_count": null,
      "metadata": {
        "id": "uFYMk_TsHxiw"
      },
      "outputs": [],
      "source": [
        "import pandas as pd\n"
      ]
    },
    {
      "cell_type": "code",
      "execution_count": null,
      "metadata": {
        "id": "Y0oeb0PkHxix"
      },
      "outputs": [],
      "source": [
        "tabela = pd.read_csv('clientes.csv')\n",
        "\n",
        "display(tabela)"
      ]
    },
    {
      "cell_type": "code",
      "execution_count": null,
      "metadata": {
        "id": "wkOYwNkRHxiy",
        "outputId": "f795b0cb-e920-4ad8-a2da-17a7258125eb"
      },
      "outputs": [
        {
          "name": "stdout",
          "output_type": "stream",
          "text": [
            "<class 'pandas.core.frame.DataFrame'>\n",
            "RangeIndex: 100000 entries, 0 to 99999\n",
            "Data columns (total 25 columns):\n",
            " #   Column                    Non-Null Count   Dtype  \n",
            "---  ------                    --------------   -----  \n",
            " 0   id_cliente                100000 non-null  int64  \n",
            " 1   mes                       100000 non-null  int64  \n",
            " 2   idade                     100000 non-null  float64\n",
            " 3   profissao                 100000 non-null  int64  \n",
            " 4   salario_anual             100000 non-null  float64\n",
            " 5   num_contas                100000 non-null  float64\n",
            " 6   num_cartoes               100000 non-null  float64\n",
            " 7   juros_emprestimo          100000 non-null  float64\n",
            " 8   num_emprestimos           100000 non-null  float64\n",
            " 9   dias_atraso               100000 non-null  float64\n",
            " 10  num_pagamentos_atrasados  100000 non-null  float64\n",
            " 11  num_verificacoes_credito  100000 non-null  float64\n",
            " 12  mix_credito               100000 non-null  int64  \n",
            " 13  divida_total              100000 non-null  float64\n",
            " 14  taxa_uso_credito          100000 non-null  float64\n",
            " 15  idade_historico_credito   100000 non-null  float64\n",
            " 16  investimento_mensal       100000 non-null  float64\n",
            " 17  comportamento_pagamento   100000 non-null  int64  \n",
            " 18  saldo_final_mes           100000 non-null  float64\n",
            " 19  score_credito             100000 non-null  object \n",
            " 20  emprestimo_carro          100000 non-null  int64  \n",
            " 21  emprestimo_casa           100000 non-null  int64  \n",
            " 22  emprestimo_pessoal        100000 non-null  int64  \n",
            " 23  emprestimo_credito        100000 non-null  int64  \n",
            " 24  emprestimo_estudantil     100000 non-null  int64  \n",
            "dtypes: float64(14), int64(10), object(1)\n",
            "memory usage: 19.1+ MB\n"
          ]
        }
      ],
      "source": [
        "tabela.info()"
      ]
    },
    {
      "cell_type": "code",
      "execution_count": null,
      "metadata": {
        "id": "S36ekNtiHxiy"
      },
      "outputs": [],
      "source": [
        "# converter campos de texto para numericas\n",
        "from sklearn.preprocessing import LabelEncoder\n"
      ]
    },
    {
      "cell_type": "code",
      "execution_count": null,
      "metadata": {
        "id": "e0SaBQYiHxiz"
      },
      "outputs": [],
      "source": [
        "codificador = LabelEncoder()\n",
        "\n",
        "tabela['profissao'] = codificador.fit_transform(tabela['profissao'])\n",
        "\n",
        "tabela['mix_credito'] = codificador.fit_transform(tabela['mix_credito'])\n",
        "\n",
        "tabela['comportamento_pagamento'] = codificador.fit_transform(tabela['comportamento_pagamento'])"
      ]
    },
    {
      "cell_type": "code",
      "execution_count": null,
      "metadata": {
        "id": "gWPTIsANHxiz"
      },
      "outputs": [],
      "source": [
        "# preparando para aplicar o modelo/previsao\n",
        "# selecionar columas para prever e quais usar para  previsao\n",
        "# x = valores usados para previsao\n",
        "# y = valor qeu a IA vai prever, nesse caso score_credito\n",
        "x = tabela.drop(columns=['id_cliente','score_credito'])\n",
        "y = tabela['score_credito']\n",
        "\n",
        "from sklearn.model_selection import train_test_split\n",
        "\n",
        "x_treino, x_teste, y_treino, y_teste = train_test_split(x, y)\n",
        "\n"
      ]
    },
    {
      "cell_type": "code",
      "execution_count": null,
      "metadata": {
        "id": "tZye2vgvHxiz",
        "outputId": "a37c57d0-a48d-43b0-ce81-a3761b6ffc9e"
      },
      "outputs": [
        {
          "data": {
            "text/html": [
              "<style>#sk-container-id-1 {color: black;background-color: white;}#sk-container-id-1 pre{padding: 0;}#sk-container-id-1 div.sk-toggleable {background-color: white;}#sk-container-id-1 label.sk-toggleable__label {cursor: pointer;display: block;width: 100%;margin-bottom: 0;padding: 0.3em;box-sizing: border-box;text-align: center;}#sk-container-id-1 label.sk-toggleable__label-arrow:before {content: \"▸\";float: left;margin-right: 0.25em;color: #696969;}#sk-container-id-1 label.sk-toggleable__label-arrow:hover:before {color: black;}#sk-container-id-1 div.sk-estimator:hover label.sk-toggleable__label-arrow:before {color: black;}#sk-container-id-1 div.sk-toggleable__content {max-height: 0;max-width: 0;overflow: hidden;text-align: left;background-color: #f0f8ff;}#sk-container-id-1 div.sk-toggleable__content pre {margin: 0.2em;color: black;border-radius: 0.25em;background-color: #f0f8ff;}#sk-container-id-1 input.sk-toggleable__control:checked~div.sk-toggleable__content {max-height: 200px;max-width: 100%;overflow: auto;}#sk-container-id-1 input.sk-toggleable__control:checked~label.sk-toggleable__label-arrow:before {content: \"▾\";}#sk-container-id-1 div.sk-estimator input.sk-toggleable__control:checked~label.sk-toggleable__label {background-color: #d4ebff;}#sk-container-id-1 div.sk-label input.sk-toggleable__control:checked~label.sk-toggleable__label {background-color: #d4ebff;}#sk-container-id-1 input.sk-hidden--visually {border: 0;clip: rect(1px 1px 1px 1px);clip: rect(1px, 1px, 1px, 1px);height: 1px;margin: -1px;overflow: hidden;padding: 0;position: absolute;width: 1px;}#sk-container-id-1 div.sk-estimator {font-family: monospace;background-color: #f0f8ff;border: 1px dotted black;border-radius: 0.25em;box-sizing: border-box;margin-bottom: 0.5em;}#sk-container-id-1 div.sk-estimator:hover {background-color: #d4ebff;}#sk-container-id-1 div.sk-parallel-item::after {content: \"\";width: 100%;border-bottom: 1px solid gray;flex-grow: 1;}#sk-container-id-1 div.sk-label:hover label.sk-toggleable__label {background-color: #d4ebff;}#sk-container-id-1 div.sk-serial::before {content: \"\";position: absolute;border-left: 1px solid gray;box-sizing: border-box;top: 0;bottom: 0;left: 50%;z-index: 0;}#sk-container-id-1 div.sk-serial {display: flex;flex-direction: column;align-items: center;background-color: white;padding-right: 0.2em;padding-left: 0.2em;position: relative;}#sk-container-id-1 div.sk-item {position: relative;z-index: 1;}#sk-container-id-1 div.sk-parallel {display: flex;align-items: stretch;justify-content: center;background-color: white;position: relative;}#sk-container-id-1 div.sk-item::before, #sk-container-id-1 div.sk-parallel-item::before {content: \"\";position: absolute;border-left: 1px solid gray;box-sizing: border-box;top: 0;bottom: 0;left: 50%;z-index: -1;}#sk-container-id-1 div.sk-parallel-item {display: flex;flex-direction: column;z-index: 1;position: relative;background-color: white;}#sk-container-id-1 div.sk-parallel-item:first-child::after {align-self: flex-end;width: 50%;}#sk-container-id-1 div.sk-parallel-item:last-child::after {align-self: flex-start;width: 50%;}#sk-container-id-1 div.sk-parallel-item:only-child::after {width: 0;}#sk-container-id-1 div.sk-dashed-wrapped {border: 1px dashed gray;margin: 0 0.4em 0.5em 0.4em;box-sizing: border-box;padding-bottom: 0.4em;background-color: white;}#sk-container-id-1 div.sk-label label {font-family: monospace;font-weight: bold;display: inline-block;line-height: 1.2em;}#sk-container-id-1 div.sk-label-container {text-align: center;}#sk-container-id-1 div.sk-container {/* jupyter's `normalize.less` sets `[hidden] { display: none; }` but bootstrap.min.css set `[hidden] { display: none !important; }` so we also need the `!important` here to be able to override the default hidden behavior on the sphinx rendered scikit-learn.org. See: https://github.com/scikit-learn/scikit-learn/issues/21755 */display: inline-block !important;position: relative;}#sk-container-id-1 div.sk-text-repr-fallback {display: none;}</style><div id=\"sk-container-id-1\" class=\"sk-top-container\"><div class=\"sk-text-repr-fallback\"><pre>KNeighborsClassifier()</pre><b>In a Jupyter environment, please rerun this cell to show the HTML representation or trust the notebook. <br />On GitHub, the HTML representation is unable to render, please try loading this page with nbviewer.org.</b></div><div class=\"sk-container\" hidden><div class=\"sk-item\"><div class=\"sk-estimator sk-toggleable\"><input class=\"sk-toggleable__control sk-hidden--visually\" id=\"sk-estimator-id-1\" type=\"checkbox\" checked><label for=\"sk-estimator-id-1\" class=\"sk-toggleable__label sk-toggleable__label-arrow\">KNeighborsClassifier</label><div class=\"sk-toggleable__content\"><pre>KNeighborsClassifier()</pre></div></div></div></div></div>"
            ],
            "text/plain": [
              "KNeighborsClassifier()"
            ]
          },
          "execution_count": 23,
          "metadata": {},
          "output_type": "execute_result"
        }
      ],
      "source": [
        "# criando modelos - Arvore dde decisao  KNN\n",
        "from sklearn.ensemble import RandomForestClassifier\n",
        "from sklearn.neighbors import KNeighborsClassifier\n",
        "\n",
        "# criar IA\n",
        "modelo_arvoredecisao = RandomForestClassifier()\n",
        "modelo_knn = KNeighborsClassifier()\n",
        "\n",
        "#t treinar IA\n",
        "modelo_arvoredecisao.fit(x_treino, y_treino)\n",
        "modelo_knn.fit(x_treino, y_treino)\n"
      ]
    },
    {
      "cell_type": "code",
      "execution_count": null,
      "metadata": {
        "id": "OCMRWmUsHxiz",
        "outputId": "320babe4-bfb1-4fed-c096-123951dd13d0"
      },
      "outputs": [
        {
          "name": "stderr",
          "output_type": "stream",
          "text": [
            "Exception ignored on calling ctypes callback function: <function _ThreadpoolInfo._find_modules_with_dl_iterate_phdr.<locals>.match_module_callback at 0x7fbe776be700>\n",
            "Traceback (most recent call last):\n",
            "  File \"/home/wbrito/anaconda3/lib/python3.9/site-packages/threadpoolctl.py\", line 400, in match_module_callback\n",
            "    self._make_module_from_path(filepath)\n",
            "  File \"/home/wbrito/anaconda3/lib/python3.9/site-packages/threadpoolctl.py\", line 515, in _make_module_from_path\n",
            "    module = module_class(filepath, prefix, user_api, internal_api)\n",
            "  File \"/home/wbrito/anaconda3/lib/python3.9/site-packages/threadpoolctl.py\", line 606, in __init__\n",
            "    self.version = self.get_version()\n",
            "  File \"/home/wbrito/anaconda3/lib/python3.9/site-packages/threadpoolctl.py\", line 646, in get_version\n",
            "    config = get_config().split()\n",
            "AttributeError: 'NoneType' object has no attribute 'split'\n"
          ]
        },
        {
          "data": {
            "text/plain": [
              "0.824"
            ]
          },
          "metadata": {},
          "output_type": "display_data"
        },
        {
          "data": {
            "text/plain": [
              "0.74212"
            ]
          },
          "metadata": {},
          "output_type": "display_data"
        }
      ],
      "source": [
        "# escolher melhor modelo\n",
        "previsao_arvoredecisao = modelo_arvoredecisao.predict(x_teste)\n",
        "previsao_knn = modelo_knn.predict(x_teste)\n",
        "\n",
        "#acuracia\n",
        "from sklearn.metrics import accuracy_score\n",
        "\n",
        "display(accuracy_score(y_teste, previsao_arvoredecisao))\n",
        "display(accuracy_score(y_teste, previsao_knn))\n"
      ]
    },
    {
      "cell_type": "code",
      "execution_count": null,
      "metadata": {
        "id": "TsOxyPHmHxi0"
      },
      "outputs": [],
      "source": [
        "# Fazendo previsao com novos dados - usando modelo de arvore de decisao\n",
        "\n",
        "tabela_novos_clientes = pd.read_csv('novos_clientes.csv')\n",
        "display(tabela_novos_clientes)"
      ]
    },
    {
      "cell_type": "code",
      "execution_count": null,
      "metadata": {
        "id": "TuFHLuF3Hxi0"
      },
      "outputs": [],
      "source": [
        "codificador = LabelEncoder()\n",
        "\n",
        "tabela_novos_clientes['profissao'] = codificador.fit_transform(tabela_novos_clientes['profissao'])\n",
        "\n",
        "tabela_novos_clientes['mix_credito'] = codificador.fit_transform(tabela_novos_clientes['mix_credito'])\n",
        "\n",
        "tabela_novos_clientes['comportamento_pagamento'] = codificador.fit_transform(tabela_novos_clientes['comportamento_pagamento'])"
      ]
    },
    {
      "cell_type": "code",
      "execution_count": null,
      "metadata": {
        "id": "LfOeD6owHxi0",
        "outputId": "6f6cb39b-3a98-40f9-d506-6423f112a0d0"
      },
      "outputs": [
        {
          "data": {
            "text/plain": [
              "array(['Poor', 'Good', 'Standard'], dtype=object)"
            ]
          },
          "metadata": {},
          "output_type": "display_data"
        }
      ],
      "source": [
        "previsoes = modelo_arvoredecisao.predict(tabela_novos_clientes)\n",
        "display(previsoes)"
      ]
    }
  ],
  "metadata": {
    "kernelspec": {
      "display_name": "base",
      "language": "python",
      "name": "python3"
    },
    "language_info": {
      "codemirror_mode": {
        "name": "ipython",
        "version": 3
      },
      "file_extension": ".py",
      "mimetype": "text/x-python",
      "name": "python",
      "nbconvert_exporter": "python",
      "pygments_lexer": "ipython3",
      "version": "3.9.13"
    },
    "colab": {
      "provenance": [],
      "include_colab_link": true
    }
  },
  "nbformat": 4,
  "nbformat_minor": 0
}